{
 "cells": [
  {
   "cell_type": "code",
   "execution_count": 1,
   "metadata": {},
   "outputs": [
    {
     "name": "stdout",
     "output_type": "stream",
     "text": [
      "Epoch 1/10\n",
      "2/2 - 5s - 2s/step - accuracy: 0.2632 - loss: 1.1034\n",
      "Epoch 2/10\n",
      "2/2 - 0s - 166ms/step - accuracy: 0.3509 - loss: 1.0983\n",
      "Epoch 3/10\n",
      "2/2 - 0s - 87ms/step - accuracy: 0.4386 - loss: 1.0959\n",
      "Epoch 4/10\n",
      "2/2 - 0s - 65ms/step - accuracy: 0.5614 - loss: 1.0929\n",
      "Epoch 5/10\n",
      "2/2 - 0s - 55ms/step - accuracy: 0.5789 - loss: 1.0922\n",
      "Epoch 6/10\n",
      "2/2 - 0s - 54ms/step - accuracy: 0.5614 - loss: 1.0891\n",
      "Epoch 7/10\n",
      "2/2 - 0s - 54ms/step - accuracy: 0.6140 - loss: 1.0769\n",
      "Epoch 8/10\n",
      "2/2 - 0s - 41ms/step - accuracy: 0.6140 - loss: 1.0526\n",
      "Epoch 9/10\n",
      "2/2 - 0s - 51ms/step - accuracy: 0.6667 - loss: 1.0102\n",
      "Epoch 10/10\n",
      "2/2 - 0s - 87ms/step - accuracy: 0.6667 - loss: 0.9124\n",
      "INFO:tensorflow:Assets written to: raw-data\\assets\n"
     ]
    },
    {
     "name": "stderr",
     "output_type": "stream",
     "text": [
      "INFO:tensorflow:Assets written to: raw-data\\assets\n"
     ]
    },
    {
     "name": "stdout",
     "output_type": "stream",
     "text": [
      "Saved artifact at 'raw-data'. The following endpoints are available:\n",
      "\n",
      "* Endpoint 'serve'\n",
      "  args_0 (POSITIONAL_ONLY): TensorSpec(shape=(None, 20), dtype=tf.float32, name='keras_tensor')\n",
      "Output Type:\n",
      "  TensorSpec(shape=(None, 3), dtype=tf.float32, name=None)\n",
      "Captures:\n",
      "  2681841139536: TensorSpec(shape=(), dtype=tf.resource, name=None)\n",
      "  2681841139152: TensorSpec(shape=(), dtype=tf.resource, name=None)\n",
      "  2681860031312: TensorSpec(shape=(), dtype=tf.resource, name=None)\n",
      "  2681860032272: TensorSpec(shape=(), dtype=tf.resource, name=None)\n",
      "  2681860032656: TensorSpec(shape=(), dtype=tf.resource, name=None)\n",
      "  2681860033424: TensorSpec(shape=(), dtype=tf.resource, name=None)\n"
     ]
    }
   ],
   "source": [
    "import tensorflow as tf\n",
    "from tensorflow.keras.preprocessing.text import Tokenizer\n",
    "from tensorflow.keras.preprocessing.sequence import pad_sequences\n",
    "from tensorflow.keras.models import Sequential\n",
    "from tensorflow.keras.layers import Embedding, LSTM, Dense, SpatialDropout1D\n",
    "import numpy as np\n",
    "from tensorflow.keras.layers import LSTM\n",
    "import pickle\n",
    "\n",
    "# Load training data from text file\n",
    "def load_training_data(file_path):\n",
    "    texts = []\n",
    "    labels = []\n",
    "    label_map = {\"Obtainable\": 0, \"Operable\": 1, \"Update\": 2}  # Define label mapping\n",
    "    with open(file_path, 'r') as file:\n",
    "        for line in file:\n",
    "            text, label = line.strip().split(',')\n",
    "            texts.append(text)\n",
    "            labels.append(label_map[label])  # Map label string to integer\n",
    "    return texts, labels\n",
    "\n",
    "# Sample dataset (for testing)\n",
    "texts, labels = load_training_data('training_data.txt')\n",
    "\n",
    "# Parameters\n",
    "vocab_size = 5000\n",
    "embedding_dim = 100\n",
    "max_length = 20\n",
    "trunc_type = 'post'\n",
    "padding_type = 'post'\n",
    "oov_tok = \"<OOV>\"\n",
    "\n",
    "# Tokenization and padding\n",
    "tokenizer = Tokenizer(num_words=vocab_size, oov_token=oov_tok)\n",
    "tokenizer.fit_on_texts(texts)\n",
    "word_index = tokenizer.word_index\n",
    "sequences = tokenizer.texts_to_sequences(texts)\n",
    "padded_sequences = pad_sequences(sequences, maxlen=max_length, padding=padding_type, truncating=trunc_type)\n",
    "\n",
    "# Preparing labels\n",
    "labels = np.array(labels)\n",
    "\n",
    "# Building the model\n",
    "model = Sequential()\n",
    "model.add(Embedding(vocab_size, embedding_dim))\n",
    "model.add(SpatialDropout1D(0.2))\n",
    "model.add(LSTM(100))\n",
    "model.add(Dense(3, activation='softmax'))\n",
    "\n",
    "model.compile(loss='sparse_categorical_crossentropy', optimizer='adam', metrics=['accuracy'])\n",
    "\n",
    "# Training the model\n",
    "model.fit(padded_sequences, labels, epochs=10, verbose=2)\n",
    "\n",
    "# Save the tokenizer for later use\n",
    "tokenizer_path = \"tokenizer.pickle\"\n",
    "with open(tokenizer_path, 'wb') as handle:\n",
    "    pickle.dump(tokenizer, handle, protocol=pickle.HIGHEST_PROTOCOL)\n",
    "\n",
    "# Save the model in the native Keras format\n",
    "model.compile(loss='sparse_categorical_crossentropy', optimizer='adam', metrics=['accuracy'])\n",
    "\n",
    "model.export('raw-data')\n",
    "model.save(\"raw-data/SaveState.keras\")\n",
    "#model.save('preproccessedModel.keras')"
   ]
  },
  {
   "cell_type": "code",
   "execution_count": 2,
   "metadata": {},
   "outputs": [
    {
     "name": "stderr",
     "output_type": "stream",
     "text": [
      "h:\\DevKit\\projects\\neuralnet\\Lib\\site-packages\\keras\\src\\saving\\saving_lib.py:415: UserWarning: Skipping variable loading for optimizer 'adam', because it has 14 variables whereas the saved optimizer has 2 variables. \n",
      "  saveable.load_own_variables(weights_store.get(inner_path))\n"
     ]
    },
    {
     "name": "stdout",
     "output_type": "stream",
     "text": [
      "TFLite built, converted and saved successfully!\n"
     ]
    }
   ],
   "source": [
    "import tensorflow as tf\n",
    "from tensorflow.keras.models import load_model\n",
    "import pickle\n",
    "\n",
    "# Load the compiled Keras model\n",
    "model = load_model('raw-data/SaveState.keras')\n",
    "\n",
    "# Export the model to the SavedModel format\n",
    "# model.save('tf_model')\n",
    "\n",
    "# Convert the SavedModel to TFLite format with experimental flags\n",
    "converter = tf.lite.TFLiteConverter.from_saved_model('raw-data')\n",
    "converter.experimental_enable_resource_variables = True\n",
    "converter.target_spec.supported_ops = [tf.lite.OpsSet.TFLITE_BUILTINS, tf.lite.OpsSet.SELECT_TF_OPS]\n",
    "converter._experimental_lower_tensor_list_ops = False\n",
    "\n",
    "# Perform the conversion\n",
    "tflite_model = converter.convert()\n",
    "\n",
    "# Save the TFLite model\n",
    "with open('1stNeuralLink.tflite', 'wb') as f:\n",
    "    f.write(tflite_model)\n",
    "\n",
    "print(\"TFLite built, converted and saved successfully!\")\n"
   ]
  }
 ],
 "metadata": {
  "kernelspec": {
   "display_name": ".venv",
   "language": "python",
   "name": "python3"
  },
  "language_info": {
   "codemirror_mode": {
    "name": "ipython",
    "version": 3
   },
   "file_extension": ".py",
   "mimetype": "text/x-python",
   "name": "python",
   "nbconvert_exporter": "python",
   "pygments_lexer": "ipython3",
   "version": "3.12.3"
  }
 },
 "nbformat": 4,
 "nbformat_minor": 2
}
