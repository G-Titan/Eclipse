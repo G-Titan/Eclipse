{
 "cells": [
  {
   "cell_type": "code",
   "execution_count": 11,
   "metadata": {},
   "outputs": [
    {
     "name": "stdout",
     "output_type": "stream",
     "text": [
      "Epoch 1/10\n",
      "2/2 - 4s - 2s/step - accuracy: 0.4035 - loss: 1.0988\n",
      "Epoch 2/10\n",
      "2/2 - 0s - 72ms/step - accuracy: 0.2632 - loss: 1.1003\n",
      "Epoch 3/10\n",
      "2/2 - 0s - 126ms/step - accuracy: 0.4386 - loss: 1.0969\n",
      "Epoch 4/10\n",
      "2/2 - 0s - 41ms/step - accuracy: 0.3509 - loss: 1.0962\n",
      "Epoch 5/10\n",
      "2/2 - 0s - 37ms/step - accuracy: 0.3684 - loss: 1.0952\n",
      "Epoch 6/10\n",
      "2/2 - 0s - 73ms/step - accuracy: 0.4386 - loss: 1.0890\n",
      "Epoch 7/10\n",
      "2/2 - 0s - 36ms/step - accuracy: 0.4211 - loss: 1.0816\n",
      "Epoch 8/10\n",
      "2/2 - 0s - 81ms/step - accuracy: 0.5614 - loss: 1.0613\n",
      "Epoch 9/10\n",
      "2/2 - 0s - 84ms/step - accuracy: 0.8947 - loss: 1.0200\n",
      "Epoch 10/10\n",
      "2/2 - 0s - 66ms/step - accuracy: 0.8070 - loss: 0.9465\n",
      "WARNING:tensorflow:5 out of the last 5 calls to <function TensorFlowTrainer.make_predict_function.<locals>.one_step_on_data_distributed at 0x000001B1E65CA160> triggered tf.function retracing. Tracing is expensive and the excessive number of tracings could be due to (1) creating @tf.function repeatedly in a loop, (2) passing tensors with different shapes, (3) passing Python objects instead of tensors. For (1), please define your @tf.function outside of the loop. For (2), @tf.function has reduce_retracing=True option that can avoid unnecessary retracing. For (3), please refer to https://www.tensorflow.org/guide/function#controlling_retracing and https://www.tensorflow.org/api_docs/python/tf/function for  more details.\n"
     ]
    },
    {
     "name": "stderr",
     "output_type": "stream",
     "text": [
      "WARNING:tensorflow:5 out of the last 5 calls to <function TensorFlowTrainer.make_predict_function.<locals>.one_step_on_data_distributed at 0x000001B1E65CA160> triggered tf.function retracing. Tracing is expensive and the excessive number of tracings could be due to (1) creating @tf.function repeatedly in a loop, (2) passing tensors with different shapes, (3) passing Python objects instead of tensors. For (1), please define your @tf.function outside of the loop. For (2), @tf.function has reduce_retracing=True option that can avoid unnecessary retracing. For (3), please refer to https://www.tensorflow.org/guide/function#controlling_retracing and https://www.tensorflow.org/api_docs/python/tf/function for  more details.\n"
     ]
    },
    {
     "name": "stdout",
     "output_type": "stream",
     "text": [
      "\u001b[1m1/1\u001b[0m \u001b[32m━━━━━━━━━━━━━━━━━━━━\u001b[0m\u001b[37m\u001b[0m \u001b[1m0s\u001b[0m 231ms/step\n",
      "Request type: Obtainable\n",
      "INFO:tensorflow:Assets written to: raw-data\\assets\n"
     ]
    },
    {
     "name": "stderr",
     "output_type": "stream",
     "text": [
      "INFO:tensorflow:Assets written to: raw-data\\assets\n"
     ]
    },
    {
     "name": "stdout",
     "output_type": "stream",
     "text": [
      "Saved artifact at 'raw-data'. The following endpoints are available:\n",
      "\n",
      "* Endpoint 'serve'\n",
      "  args_0 (POSITIONAL_ONLY): TensorSpec(shape=(None, 20), dtype=tf.float32, name='keras_tensor_75')\n",
      "Output Type:\n",
      "  TensorSpec(shape=(None, 3), dtype=tf.float32, name=None)\n",
      "Captures:\n",
      "  1863679229584: TensorSpec(shape=(), dtype=tf.resource, name=None)\n",
      "  1863679228624: TensorSpec(shape=(), dtype=tf.resource, name=None)\n",
      "  1863679228816: TensorSpec(shape=(), dtype=tf.resource, name=None)\n",
      "  1863547516496: TensorSpec(shape=(), dtype=tf.resource, name=None)\n",
      "  1863547506896: TensorSpec(shape=(), dtype=tf.resource, name=None)\n",
      "  1863547516112: TensorSpec(shape=(), dtype=tf.resource, name=None)\n"
     ]
    }
   ],
   "source": [
    "import tensorflow as tf\n",
    "from tensorflow.keras.preprocessing.text import Tokenizer\n",
    "from tensorflow.keras.preprocessing.sequence import pad_sequences\n",
    "from tensorflow.keras.models import Sequential\n",
    "from tensorflow.keras.layers import Embedding, LSTM, Dense, SpatialDropout1D\n",
    "import numpy as np\n",
    "from tensorflow.keras.layers import LSTM\n",
    "import pickle\n",
    "\n",
    "# Load training data from text file\n",
    "def load_training_data(file_path):\n",
    "    texts = []\n",
    "    labels = []\n",
    "    label_map = {\"Obtainable\": 0, \"Operable\": 1, \"Update\": 2}  # Define label mapping\n",
    "    with open(file_path, 'r') as file:\n",
    "        for line in file:\n",
    "            text, label = line.strip().split(',')\n",
    "            texts.append(text)\n",
    "            labels.append(label_map[label])  # Map label string to integer\n",
    "    return texts, labels\n",
    "\n",
    "# Sample dataset (for testing)\n",
    "texts, labels = load_training_data('training_data.txt')\n",
    "\n",
    "# Parameters\n",
    "vocab_size = 5000\n",
    "embedding_dim = 100\n",
    "max_length = 20\n",
    "trunc_type = 'post'\n",
    "padding_type = 'post'\n",
    "oov_tok = \"<OOV>\"\n",
    "\n",
    "# Tokenization and padding\n",
    "tokenizer = Tokenizer(num_words=vocab_size, oov_token=oov_tok)\n",
    "tokenizer.fit_on_texts(texts)\n",
    "word_index = tokenizer.word_index\n",
    "sequences = tokenizer.texts_to_sequences(texts)\n",
    "padded_sequences = pad_sequences(sequences, maxlen=max_length, padding=padding_type, truncating=trunc_type)\n",
    "\n",
    "# Preparing labels\n",
    "labels = np.array(labels)\n",
    "\n",
    "# Building the model\n",
    "model = Sequential()\n",
    "model.add(Embedding(vocab_size, embedding_dim))\n",
    "model.add(SpatialDropout1D(0.2))\n",
    "model.add(LSTM(100))\n",
    "model.add(Dense(3, activation='softmax'))\n",
    "\n",
    "model.compile(loss='sparse_categorical_crossentropy', optimizer='adam', metrics=['accuracy'])\n",
    "\n",
    "# Training the model\n",
    "model.fit(padded_sequences, labels, epochs=10, verbose=2)\n",
    "\n",
    "# Save the tokenizer for later use\n",
    "tokenizer_path = \"tokenizer.pickle\"\n",
    "with open(tokenizer_path, 'wb') as handle:\n",
    "    pickle.dump(tokenizer, handle, protocol=pickle.HIGHEST_PROTOCOL)\n",
    "\n",
    "# Save the model in the native Keras format\n",
    "model.compile(loss='sparse_categorical_crossentropy', optimizer='adam', metrics=['accuracy'])\n",
    "\n",
    "\n",
    "# Function to classify new requests\n",
    "def classify_request(request):\n",
    "    seq = tokenizer.texts_to_sequences([request])\n",
    "    padded = pad_sequences(seq, maxlen=max_length, padding=padding_type, truncating=trunc_type)\n",
    "    prediction = model.predict(padded)\n",
    "    return np.argmax(prediction, axis=1)[0]\n",
    "\n",
    "# Example usage\n",
    "new_request = \"I want to sleep\"\n",
    "request_type = classify_request(new_request)\n",
    "request_types = [\"Obtainable\", \"Operable\", \"Update\"]\n",
    "print(f\"Request type: {request_types[request_type]}\")\n",
    "\n",
    "model.export('raw-data')\n",
    "model.save(\"raw-data/SaveState.keras\")"
   ]
  },
  {
   "cell_type": "code",
   "execution_count": 12,
   "metadata": {},
   "outputs": [
    {
     "name": "stderr",
     "output_type": "stream",
     "text": [
      "h:\\DevKit\\projects\\neuralnet\\Lib\\site-packages\\keras\\src\\saving\\saving_lib.py:415: UserWarning: Skipping variable loading for optimizer 'adam', because it has 14 variables whereas the saved optimizer has 2 variables. \n",
      "  saveable.load_own_variables(weights_store.get(inner_path))\n"
     ]
    },
    {
     "name": "stdout",
     "output_type": "stream",
     "text": [
      "TFLite built, converted and saved successfully!\n"
     ]
    }
   ],
   "source": [
    "import tensorflow as tf\n",
    "from tensorflow.keras.models import load_model\n",
    "import pickle\n",
    "\n",
    "# Load the compiled Keras model\n",
    "model = load_model('raw-data/SaveState.keras')\n",
    "\n",
    "# Export the model to the SavedModel format\n",
    "# model.save('tf_model')\n",
    "\n",
    "# Convert the SavedModel to TFLite format with experimental flags\n",
    "converter = tf.lite.TFLiteConverter.from_saved_model('raw-data')\n",
    "converter.experimental_enable_resource_variables = True\n",
    "converter.target_spec.supported_ops = [tf.lite.OpsSet.TFLITE_BUILTINS, tf.lite.OpsSet.SELECT_TF_OPS]\n",
    "converter._experimental_lower_tensor_list_ops = False\n",
    "\n",
    "# Perform the conversion\n",
    "tflite_model = converter.convert()\n",
    "\n",
    "# Save the TFLite model\n",
    "with open('1stNeuralLink.tflite', 'wb') as f:\n",
    "    f.write(tflite_model)\n",
    "\n",
    "print(\"TFLite built, converted and saved successfully!\")\n"
   ]
  }
 ],
 "metadata": {
  "kernelspec": {
   "display_name": ".venv",
   "language": "python",
   "name": "python3"
  },
  "language_info": {
   "codemirror_mode": {
    "name": "ipython",
    "version": 3
   },
   "file_extension": ".py",
   "mimetype": "text/x-python",
   "name": "python",
   "nbconvert_exporter": "python",
   "pygments_lexer": "ipython3",
   "version": "3.12.3"
  }
 },
 "nbformat": 4,
 "nbformat_minor": 2
}
